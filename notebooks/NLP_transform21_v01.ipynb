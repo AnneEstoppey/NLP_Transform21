{
 "cells": [
  {
   "cell_type": "markdown",
   "metadata": {},
   "source": [
    "## Introduction\n",
    "In this notebook we will work with Wellbore report summaries from Norwegian Petroleum Directorate (NPD). The wellbore datasets are public domain.<br> They are available here: https://hotell.difi.no/?dataset=npd/wellbore/with-history (well report summaries).<br> The following link should go to all data available from Norwegian Oil Directorate, in public domain: https://data.norge.no/datasets/4304aea1-53b1-47ed-beae-52bf4d3642f3 (link might get broken over time).<br>\n",
    "We will explore different NLP methods to extract insights and also create a few visualisations.\n",
    "#### UNDER CONSTRUCTION, CHECK FOR UPDATES! :-))"
   ]
  },
  {
   "cell_type": "markdown",
   "metadata": {},
   "source": [
    "---"
   ]
  },
  {
   "cell_type": "code",
   "execution_count": 1,
   "metadata": {},
   "outputs": [],
   "source": [
    "import pandas as pd\n",
    "import numpy as np\n",
    "from pprint import pprint\n",
    "import re, os, operator\n",
    "import collections \n",
    "import matplotlib.pyplot as plt\n",
    "import requests\n",
    "import json\n",
    "\n",
    "import nltk\n",
    "from nltk.corpus import stopwords\n",
    "\n",
    "import altair as alt\n",
    "# add the line below if you use notebooks and comment it if you use jupyter lab\n",
    "# alt.renderers.enable('notebook')"
   ]
  },
  {
   "cell_type": "markdown",
   "metadata": {},
   "source": [
    "#### API connection - check for status\n",
    "Make a general get request, print out status code. \n",
    "Status code = 200 means API connection is up and running."
   ]
  },
  {
   "cell_type": "code",
   "execution_count": 2,
   "metadata": {},
   "outputs": [
    {
     "data": {
      "text/plain": [
       "<Response [200]>"
      ]
     },
     "execution_count": 2,
     "metadata": {},
     "output_type": "execute_result"
    }
   ],
   "source": [
    "requests.get('http://data.norge.no/api/dcat/870917732/data.json')"
   ]
  },
  {
   "cell_type": "markdown",
   "metadata": {},
   "source": [
    "#### Get request - Well summaries\n",
    "The datasets are paginated. The first page will tell us how many pages there are in total, and how many rows for the whole dataset."
   ]
  },
  {
   "cell_type": "code",
   "execution_count": 3,
   "metadata": {},
   "outputs": [],
   "source": [
    "wells_summary = requests.get('http://hotell.difi.no/api/json/npd/wellbore/with-history?page=1')\n",
    "json_wells_summary = wells_summary.json()"
   ]
  },
  {
   "cell_type": "code",
   "execution_count": 4,
   "metadata": {},
   "outputs": [
    {
     "name": "stdout",
     "output_type": "stream",
     "text": [
      "number of pages: 19\n",
      "number of rows:  1824\n"
     ]
    }
   ],
   "source": [
    "print(f'number of pages: {json_wells_summary[\"pages\"]}')\n",
    "print(f'number of rows:  {json_wells_summary[\"posts\"]}')"
   ]
  },
  {
   "cell_type": "markdown",
   "metadata": {},
   "source": [
    "#### Let's go through all the pages and append all the rows in JSON dictionary\n",
    "Create a pandas dataframe from the json file"
   ]
  },
  {
   "cell_type": "code",
   "execution_count": 5,
   "metadata": {},
   "outputs": [],
   "source": [
    "def get_all_data(url_dataset, df_out_name):\n",
    "    '''looping through all pages,\n",
    "    append in JSON dictionary,\n",
    "    create dataframe\n",
    "    '''\n",
    "    \n",
    "    page = json_wells_summary['pages']\n",
    "    all_data_list = []\n",
    "    for i in range(0, page):\n",
    "        url = url_dataset + f'?page={i+1}'\n",
    "        dataset_all = requests.get(url)\n",
    "        dataset_all_json = dataset_all.json()\n",
    "        number_of_entries = len(dataset_all_json['entries'])\n",
    "\n",
    "        for entry in range(0, number_of_entries):\n",
    "            all_data_list.append(dataset_all_json['entries'][entry])\n",
    "\n",
    "    df_out_name = pd.DataFrame(all_data_list)\n",
    "    return df_out_name"
   ]
  },
  {
   "cell_type": "markdown",
   "metadata": {},
   "source": [
    "#### Getting all our well summaries into a dataframe"
   ]
  },
  {
   "cell_type": "code",
   "execution_count": 6,
   "metadata": {},
   "outputs": [],
   "source": [
    "url_dataset ='http://hotell.difi.no/api/json/npd/wellbore/with-history'\n",
    "df_out_name = 'df_all_summaries'\n",
    "df_all_summaries = get_all_data(url_dataset, df_out_name)"
   ]
  },
  {
   "cell_type": "code",
   "execution_count": 8,
   "metadata": {},
   "outputs": [
    {
     "data": {
      "text/plain": [
       "(1824, 5)"
      ]
     },
     "execution_count": 8,
     "metadata": {},
     "output_type": "execute_result"
    }
   ],
   "source": [
    "df_all_summaries.shape"
   ]
  },
  {
   "cell_type": "code",
   "execution_count": 9,
   "metadata": {},
   "outputs": [
    {
     "data": {
      "text/html": [
       "<div>\n",
       "<style scoped>\n",
       "    .dataframe tbody tr th:only-of-type {\n",
       "        vertical-align: middle;\n",
       "    }\n",
       "\n",
       "    .dataframe tbody tr th {\n",
       "        vertical-align: top;\n",
       "    }\n",
       "\n",
       "    .dataframe thead th {\n",
       "        text-align: right;\n",
       "    }\n",
       "</style>\n",
       "<table border=\"1\" class=\"dataframe\">\n",
       "  <thead>\n",
       "    <tr style=\"text-align: right;\">\n",
       "      <th></th>\n",
       "      <th>wlbHistoryDateUpdated</th>\n",
       "      <th>wlbName</th>\n",
       "      <th>wlbNPDID_wellbore</th>\n",
       "      <th>wlbHistory</th>\n",
       "      <th>datesyncNPD</th>\n",
       "    </tr>\n",
       "  </thead>\n",
       "  <tbody>\n",
       "    <tr>\n",
       "      <td>0</td>\n",
       "      <td>7/6/2016 12:00:00 AM</td>\n",
       "      <td>1/2-1</td>\n",
       "      <td>1382</td>\n",
       "      <td>&lt;p&gt;&lt;b&gt;General&lt;/b&gt;&lt;/p&gt;\\n\\n&lt;p&gt;Well 1/2-1 is loca...</td>\n",
       "      <td>15.01.2021</td>\n",
       "    </tr>\n",
       "    <tr>\n",
       "      <td>1</td>\n",
       "      <td>4/11/2017 12:00:00 AM</td>\n",
       "      <td>1/2-2</td>\n",
       "      <td>5192</td>\n",
       "      <td>&lt;p&gt;The 1/2-2 well was drilled to evaluate the ...</td>\n",
       "      <td>15.01.2021</td>\n",
       "    </tr>\n",
       "    <tr>\n",
       "      <td>2</td>\n",
       "      <td>5/19/2016 12:00:00 AM</td>\n",
       "      <td>1/3-1</td>\n",
       "      <td>154</td>\n",
       "      <td>&lt;p class=MsoBodyText&gt;&lt;b&gt;&lt;span lang=EN-GB&gt;Gener...</td>\n",
       "      <td>15.01.2021</td>\n",
       "    </tr>\n",
       "    <tr>\n",
       "      <td>3</td>\n",
       "      <td>4/11/2017 12:00:00 AM</td>\n",
       "      <td>1/3-10</td>\n",
       "      <td>5614</td>\n",
       "      <td>&lt;p class=MsoBodyText&gt;&lt;b&gt;&lt;span lang=EN-GB&gt;Gener...</td>\n",
       "      <td>15.01.2021</td>\n",
       "    </tr>\n",
       "    <tr>\n",
       "      <td>4</td>\n",
       "      <td>4/11/2017 12:00:00 AM</td>\n",
       "      <td>1/3-10 A</td>\n",
       "      <td>5779</td>\n",
       "      <td>&lt;p class=MsoBodyText&gt;&lt;b&gt;&lt;span lang=EN-GB&gt;Gener...</td>\n",
       "      <td>15.01.2021</td>\n",
       "    </tr>\n",
       "  </tbody>\n",
       "</table>\n",
       "</div>"
      ],
      "text/plain": [
       "   wlbHistoryDateUpdated   wlbName wlbNPDID_wellbore  \\\n",
       "0   7/6/2016 12:00:00 AM     1/2-1              1382   \n",
       "1  4/11/2017 12:00:00 AM     1/2-2              5192   \n",
       "2  5/19/2016 12:00:00 AM     1/3-1               154   \n",
       "3  4/11/2017 12:00:00 AM    1/3-10              5614   \n",
       "4  4/11/2017 12:00:00 AM  1/3-10 A              5779   \n",
       "\n",
       "                                          wlbHistory datesyncNPD  \n",
       "0  <p><b>General</b></p>\\n\\n<p>Well 1/2-1 is loca...  15.01.2021  \n",
       "1  <p>The 1/2-2 well was drilled to evaluate the ...  15.01.2021  \n",
       "2  <p class=MsoBodyText><b><span lang=EN-GB>Gener...  15.01.2021  \n",
       "3  <p class=MsoBodyText><b><span lang=EN-GB>Gener...  15.01.2021  \n",
       "4  <p class=MsoBodyText><b><span lang=EN-GB>Gener...  15.01.2021  "
      ]
     },
     "execution_count": 9,
     "metadata": {},
     "output_type": "execute_result"
    }
   ],
   "source": [
    "df_all_summaries.head()"
   ]
  },
  {
   "cell_type": "markdown",
   "metadata": {},
   "source": [
    "#### Display a complete summary - we will need to clean all this html code!"
   ]
  },
  {
   "cell_type": "code",
   "execution_count": 10,
   "metadata": {},
   "outputs": [
    {
     "data": {
      "text/plain": [
       "'<p class=MsoBodyText><b><span lang=EN-GB>General</span></b></p>\\n\\n<p class=MsoBodyText><span lang=EN-GB>Well 6508/1-2 was drilled on the Skaugumsåsen\\nprospect in the south-western end of the Helgeland Basin in the Norwegian Sea, about\\nten kilometres south of the Norne field. The primary objective was to prove\\npetroleum in reservoirs of the Early Jurassic Båt Group. A Secondary objective was\\nto test the reservoir and HC potential of the Paleocene Tare Formation.</span></p>\\n\\n<p class=MsoBodyText><b><span lang=EN-GB>Operations and results</span></b></p>\\n\\n<p class=MsoBodyText><span lang=EN-GB>A 9 7/8&quot; pilot well 6508/1-U-2 was\\ndrilled to 1305 m to check for shallow gas. No indications of shallow gas were\\nseen. Wildcat well 6508/1-2 was spudded with the semi-submersible installation Aker\\nBarents on 20 August 2011 and drilled to TD at 1810 m in the Early Jurassic\\nTilje Formation. No significant problem was encountered in the operations. The\\nwell was drilled with seawater and hi-vis pills down to 1301 m and with\\nGlydril/KCl mud from 1301 m to TD.</span></p>\\n\\n<p class=MsoBodyText><span lang=EN-GB>The Rogaland Group (Tare and Tang\\nformations) contained some thin hydrocarbon bearing intervals around 1650 to\\n1660 m. The net pay here was 4.4 m with average porosity of 28%. The zone was\\noverpressured and not in communication with the deeper reservoir zones, and\\nheadspace gas analyses from this section indicated the gas was diagenetic, not\\nthermogenic. The top of the main reservoir, the Early Jurassic Ror Formation,\\nwas encountered at 1715.5 m underlying the Late Cretaceous Nise Formation. A\\ngas column of 18.2 (1715.5 - 1733.7 m) was present in the Ror Formation, and an\\noil column of 22.3m was present in the Ror and Tilje Formations down to an OWC\\nat 1756 m. Weak shows continued on the cores down to 1762 m otherwise no shows\\nwere seen in this well outside of the hydrocarbon bearing reservoir.</span></p>\\n\\n<p class=MsoBodyText><span lang=EN-GB>Two cores were cut in the interval 1718.5\\nm - 1764 m in the Ror and Tilje formations. Wire line logging was performed in\\nthe 81/2&quot; section, along with pressure points from the Tare Formation down\\nthrough the Ror Formation. A gas sample was collected at 1716 m in the Ror Formation,\\nan oil sample at 1754 m in the Ror Formation and a water sample at 1760.5 in\\nthe Tilje Formation</span></p>\\n\\n<p class=MsoBodyText><span lang=EN-GB>The well was permanently abandoned on 12\\nSeptember 2011 as an oil and gas discovery.</span></p>\\n\\n<p class=MsoBodyText><b><span lang=EN-GB>Testing</span></b><span lang=EN-GB> </span></p>\\n\\n<p class=MsoBodyText><span lang=EN-GB>No drill stem test was performed. </span></p>'"
      ]
     },
     "execution_count": 10,
     "metadata": {},
     "output_type": "execute_result"
    }
   ],
   "source": [
    "# Display well summary (wlbHistory) \n",
    "df_all_summaries.iloc[1500]['wlbHistory']"
   ]
  },
  {
   "cell_type": "markdown",
   "metadata": {},
   "source": [
    "#### Getting geolocation information for all wells - we will append this information to our well summary dataframe"
   ]
  },
  {
   "cell_type": "code",
   "execution_count": 11,
   "metadata": {},
   "outputs": [],
   "source": [
    "url_dataset = 'http://hotell.difi.no/api/json/npd/wellbore/with-coordinates'\n",
    "df_out_name = 'df_all_with_coord'\n",
    "df_all_with_coord = get_all_data(url_dataset, df_out_name)"
   ]
  },
  {
   "cell_type": "code",
   "execution_count": 15,
   "metadata": {},
   "outputs": [
    {
     "data": {
      "text/plain": [
       "(1900, 26)"
      ]
     },
     "execution_count": 15,
     "metadata": {},
     "output_type": "execute_result"
    }
   ],
   "source": [
    "df_all_with_coord.shape"
   ]
  },
  {
   "cell_type": "code",
   "execution_count": 16,
   "metadata": {},
   "outputs": [
    {
     "data": {
      "text/html": [
       "<div>\n",
       "<style scoped>\n",
       "    .dataframe tbody tr th:only-of-type {\n",
       "        vertical-align: middle;\n",
       "    }\n",
       "\n",
       "    .dataframe tbody tr th {\n",
       "        vertical-align: top;\n",
       "    }\n",
       "\n",
       "    .dataframe thead th {\n",
       "        text-align: right;\n",
       "    }\n",
       "</style>\n",
       "<table border=\"1\" class=\"dataframe\">\n",
       "  <thead>\n",
       "    <tr style=\"text-align: right;\">\n",
       "      <th></th>\n",
       "      <th>wlbUtmZone</th>\n",
       "      <th>wlbWellType</th>\n",
       "      <th>wlbEwDeg</th>\n",
       "      <th>wlbEwCode</th>\n",
       "      <th>wlbEntryDate</th>\n",
       "      <th>wlbNsSec</th>\n",
       "      <th>wlbEwMin</th>\n",
       "      <th>wlbEwSec</th>\n",
       "      <th>wlbNsDecDeg</th>\n",
       "      <th>wlbProductionLicence</th>\n",
       "      <th>...</th>\n",
       "      <th>wlbEwUtm</th>\n",
       "      <th>wlbNsMin</th>\n",
       "      <th>wlbWellboreName</th>\n",
       "      <th>wlbContent</th>\n",
       "      <th>wlbDrillingOperator</th>\n",
       "      <th>wlbEwDesDeg</th>\n",
       "      <th>wlbNsUtm</th>\n",
       "      <th>wlbGeodeticDatum</th>\n",
       "      <th>datesyncNPD</th>\n",
       "      <th>wlbMainArea</th>\n",
       "    </tr>\n",
       "  </thead>\n",
       "  <tbody>\n",
       "    <tr>\n",
       "      <td>0</td>\n",
       "      <td>31</td>\n",
       "      <td>EXPLORATION</td>\n",
       "      <td>2</td>\n",
       "      <td>E</td>\n",
       "      <td>20.03.1989</td>\n",
       "      <td>15.07</td>\n",
       "      <td>28</td>\n",
       "      <td>35.7</td>\n",
       "      <td>56.887519</td>\n",
       "      <td>143</td>\n",
       "      <td>...</td>\n",
       "      <td>468106.29</td>\n",
       "      <td>53</td>\n",
       "      <td>1/2-1</td>\n",
       "      <td>OIL</td>\n",
       "      <td>Phillips Petroleum Norsk AS</td>\n",
       "      <td>2.476583</td>\n",
       "      <td>6305128.26</td>\n",
       "      <td>ED50</td>\n",
       "      <td>15.01.2021</td>\n",
       "      <td>NORTH SEA</td>\n",
       "    </tr>\n",
       "    <tr>\n",
       "      <td>1</td>\n",
       "      <td>31</td>\n",
       "      <td>EXPLORATION</td>\n",
       "      <td>2</td>\n",
       "      <td>E</td>\n",
       "      <td>14.12.2005</td>\n",
       "      <td>32</td>\n",
       "      <td>29</td>\n",
       "      <td>47.66</td>\n",
       "      <td>56.992222</td>\n",
       "      <td>143 CS</td>\n",
       "      <td>...</td>\n",
       "      <td>469410.10</td>\n",
       "      <td>59</td>\n",
       "      <td>1/2-2</td>\n",
       "      <td>OIL SHOWS</td>\n",
       "      <td>Paladin Resources Norge AS</td>\n",
       "      <td>2.496572</td>\n",
       "      <td>6316774.33</td>\n",
       "      <td>ED50</td>\n",
       "      <td>15.01.2021</td>\n",
       "      <td>NORTH SEA</td>\n",
       "    </tr>\n",
       "    <tr>\n",
       "      <td>2</td>\n",
       "      <td>31</td>\n",
       "      <td>OTHER</td>\n",
       "      <td>2</td>\n",
       "      <td>E</td>\n",
       "      <td>09.05.2009</td>\n",
       "      <td>55.58</td>\n",
       "      <td>27</td>\n",
       "      <td>5.01</td>\n",
       "      <td>56.948772</td>\n",
       "      <td>143</td>\n",
       "      <td>...</td>\n",
       "      <td>466625.99</td>\n",
       "      <td>56</td>\n",
       "      <td>1/2-U-1</td>\n",
       "      <td></td>\n",
       "      <td>ConocoPhillips Skandinavia AS</td>\n",
       "      <td>2.451392</td>\n",
       "      <td>6311958.73</td>\n",
       "      <td>ED50</td>\n",
       "      <td>15.01.2021</td>\n",
       "      <td>NORTH SEA</td>\n",
       "    </tr>\n",
       "    <tr>\n",
       "      <td>3</td>\n",
       "      <td>31</td>\n",
       "      <td>OTHER</td>\n",
       "      <td>2</td>\n",
       "      <td>E</td>\n",
       "      <td>12.05.2009</td>\n",
       "      <td>56.95</td>\n",
       "      <td>27</td>\n",
       "      <td>7.69</td>\n",
       "      <td>56.949153</td>\n",
       "      <td>143</td>\n",
       "      <td>...</td>\n",
       "      <td>466671.62</td>\n",
       "      <td>56</td>\n",
       "      <td>1/2-U-2</td>\n",
       "      <td></td>\n",
       "      <td>ConocoPhillips Skandinavia AS</td>\n",
       "      <td>2.452136</td>\n",
       "      <td>6312000.73</td>\n",
       "      <td>ED50</td>\n",
       "      <td>15.01.2021</td>\n",
       "      <td>NORTH SEA</td>\n",
       "    </tr>\n",
       "    <tr>\n",
       "      <td>4</td>\n",
       "      <td>31</td>\n",
       "      <td>OTHER</td>\n",
       "      <td>2</td>\n",
       "      <td>E</td>\n",
       "      <td>12.05.2009</td>\n",
       "      <td>54.99</td>\n",
       "      <td>27</td>\n",
       "      <td>8.52</td>\n",
       "      <td>56.948608</td>\n",
       "      <td>143</td>\n",
       "      <td>...</td>\n",
       "      <td>466685.16</td>\n",
       "      <td>56</td>\n",
       "      <td>1/2-U-3</td>\n",
       "      <td></td>\n",
       "      <td>ConocoPhillips Skandinavia AS</td>\n",
       "      <td>2.452367</td>\n",
       "      <td>6311940.01</td>\n",
       "      <td>ED50</td>\n",
       "      <td>15.01.2021</td>\n",
       "      <td>NORTH SEA</td>\n",
       "    </tr>\n",
       "  </tbody>\n",
       "</table>\n",
       "<p>5 rows × 26 columns</p>\n",
       "</div>"
      ],
      "text/plain": [
       "  wlbUtmZone  wlbWellType wlbEwDeg wlbEwCode wlbEntryDate wlbNsSec wlbEwMin  \\\n",
       "0         31  EXPLORATION        2         E   20.03.1989    15.07       28   \n",
       "1         31  EXPLORATION        2         E   14.12.2005       32       29   \n",
       "2         31        OTHER        2         E   09.05.2009    55.58       27   \n",
       "3         31        OTHER        2         E   12.05.2009    56.95       27   \n",
       "4         31        OTHER        2         E   12.05.2009    54.99       27   \n",
       "\n",
       "  wlbEwSec wlbNsDecDeg wlbProductionLicence  ...   wlbEwUtm wlbNsMin  \\\n",
       "0     35.7   56.887519                  143  ...  468106.29       53   \n",
       "1    47.66   56.992222               143 CS  ...  469410.10       59   \n",
       "2     5.01   56.948772                  143  ...  466625.99       56   \n",
       "3     7.69   56.949153                  143  ...  466671.62       56   \n",
       "4     8.52   56.948608                  143  ...  466685.16       56   \n",
       "\n",
       "  wlbWellboreName wlbContent            wlbDrillingOperator wlbEwDesDeg  \\\n",
       "0           1/2-1        OIL    Phillips Petroleum Norsk AS    2.476583   \n",
       "1           1/2-2  OIL SHOWS     Paladin Resources Norge AS    2.496572   \n",
       "2         1/2-U-1             ConocoPhillips Skandinavia AS    2.451392   \n",
       "3         1/2-U-2             ConocoPhillips Skandinavia AS    2.452136   \n",
       "4         1/2-U-3             ConocoPhillips Skandinavia AS    2.452367   \n",
       "\n",
       "     wlbNsUtm wlbGeodeticDatum datesyncNPD wlbMainArea  \n",
       "0  6305128.26             ED50  15.01.2021   NORTH SEA  \n",
       "1  6316774.33             ED50  15.01.2021   NORTH SEA  \n",
       "2  6311958.73             ED50  15.01.2021   NORTH SEA  \n",
       "3  6312000.73             ED50  15.01.2021   NORTH SEA  \n",
       "4  6311940.01             ED50  15.01.2021   NORTH SEA  \n",
       "\n",
       "[5 rows x 26 columns]"
      ]
     },
     "execution_count": 16,
     "metadata": {},
     "output_type": "execute_result"
    }
   ],
   "source": [
    "df_all_with_coord.head()"
   ]
  },
  {
   "cell_type": "code",
   "execution_count": null,
   "metadata": {},
   "outputs": [],
   "source": []
  },
  {
   "cell_type": "code",
   "execution_count": null,
   "metadata": {},
   "outputs": [],
   "source": []
  },
  {
   "cell_type": "code",
   "execution_count": null,
   "metadata": {},
   "outputs": [],
   "source": []
  },
  {
   "cell_type": "code",
   "execution_count": null,
   "metadata": {},
   "outputs": [],
   "source": []
  }
 ],
 "metadata": {
  "kernelspec": {
   "display_name": "Python 3",
   "language": "python",
   "name": "python3"
  },
  "language_info": {
   "codemirror_mode": {
    "name": "ipython",
    "version": 3
   },
   "file_extension": ".py",
   "mimetype": "text/x-python",
   "name": "python",
   "nbconvert_exporter": "python",
   "pygments_lexer": "ipython3",
   "version": "3.7.4"
  }
 },
 "nbformat": 4,
 "nbformat_minor": 4
}
